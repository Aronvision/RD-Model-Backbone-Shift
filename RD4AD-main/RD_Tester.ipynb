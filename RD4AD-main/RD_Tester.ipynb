{
 "cells": [
  {
   "cell_type": "markdown",
   "metadata": {},
   "source": [
    "# 🏆 공정한 RD 모델 백본 네트워크 비교\n",
    "\n",
    "ResNet50 vs ConvNeXt 백본 네트워크의 공정한 성능 비교를 위한 테스트 노트북\n",
    "\n",
    "## 공정한 비교 조건\n",
    "- **동일한 평가 방식**: ResNet RD_Tester.ipynb 방식 사용\n",
    "- **동일한 anomaly map 계산**: 마지막 스케일만 사용\n",
    "- **동일한 similarity 계산**: Cosine Similarity\n",
    "- **동일한 후처리**: Gaussian filter (sigma=4)\n",
    "- **동일한 sample score**: Max pooling\n",
    "- **동일한 데이터셋**: MVTec bottle"
   ]
  },
  {
   "cell_type": "markdown",
   "metadata": {},
   "source": [
    "## 1. 환경 설정 및 라이브러리 로드"
   ]
  },
  {
   "cell_type": "code",
   "execution_count": 1,
   "metadata": {},
   "outputs": [
    {
     "name": "stdout",
     "output_type": "stream",
     "text": [
      "CUDA available: True\n",
      "CUDA device: NVIDIA GeForce RTX 3060 Laptop GPU | count: 1\n"
     ]
    }
   ],
   "source": [
    "import os\n",
    "import json\n",
    "import math\n",
    "import random\n",
    "from pathlib import Path\n",
    "\n",
    "import numpy as np\n",
    "import pandas as pd\n",
    "from tqdm.auto import tqdm\n",
    "\n",
    "import torch\n",
    "import torch.nn as nn\n",
    "import torch.nn.functional as F\n",
    "from torch.utils.data import DataLoader\n",
    "\n",
    "from sklearn.metrics import accuracy_score, precision_recall_fscore_support, roc_auc_score\n",
    "\n",
    "# 데이터 및 모델 import\n",
    "from dataset import get_data_transforms, RD_Dataset\n",
    "from RD_ConvNeXt_Model import rd_convnext_model\n",
    "from resnet import resnet50\n",
    "from de_resnet import de_resnet50\n",
    "\n",
    "from scipy.ndimage import gaussian_filter\n",
    "import matplotlib.pyplot as plt\n",
    "\n",
    "cuda_available = torch.cuda.is_available()\n",
    "print(f\"CUDA available: {cuda_available}\")\n",
    "if cuda_available:\n",
    "    print(f\"CUDA device: {torch.cuda.get_device_name(0)} | count: {torch.cuda.device_count()}\")"
   ]
  },
  {
   "cell_type": "markdown",
   "metadata": {},
   "source": [
    "## 2. 실험 설정값 및 경로 구성"
   ]
  },
  {
   "cell_type": "code",
   "execution_count": 2,
   "metadata": {},
   "outputs": [
    {
     "name": "stdout",
     "output_type": "stream",
     "text": [
      "Configuration:\n",
      "  class_name: bottle\n",
      "  image_size: 256\n",
      "  center_crop: 256\n",
      "  batch_size: 1\n",
      "  num_workers: 4\n",
      "  pin_memory: True\n",
      "  device: cuda\n",
      "  convnext_checkpoint: checkpoints\\convnext_pure_bottle.pth\n",
      "  resnet50_checkpoint: checkpoints\\res50_bottle.pth\n",
      "  test_data_root: data\\bottle\n",
      "  results_dir: results\\fair_comparison\n",
      "  seed: 42\n",
      "  gaussian_sigma: 4\n",
      "  use_half: False\n",
      "  use_bfloat16: False\n"
     ]
    }
   ],
   "source": [
    "from types import SimpleNamespace\n",
    "\n",
    "def set_seed(seed: int) -> None:\n",
    "    \"\"\"재현성을 위해 모든 시드를 고정합니다.\"\"\"\n",
    "    random.seed(seed)\n",
    "    np.random.seed(seed)\n",
    "    torch.manual_seed(seed)\n",
    "    if torch.cuda.is_available():\n",
    "        torch.cuda.manual_seed_all(seed)\n",
    "\n",
    "config = SimpleNamespace(\n",
    "    class_name='bottle',\n",
    "    image_size=256,\n",
    "    center_crop=256,\n",
    "    batch_size=1,\n",
    "    num_workers=4,\n",
    "    pin_memory=True,\n",
    "    device='cuda' if cuda_available else 'cpu',\n",
    "    convnext_checkpoint=Path('checkpoints') / 'convnext_pure_bottle.pth',\n",
    "    resnet50_checkpoint=Path('checkpoints') / 'res50_bottle.pth',\n",
    "    test_data_root=Path('data') / 'bottle',\n",
    "    results_dir=Path('results') / 'fair_comparison',\n",
    "    seed=42,\n",
    "    gaussian_sigma=4,\n",
    "    use_half=False,\n",
    "    use_bfloat16=False,\n",
    ")\n",
    "\n",
    "set_seed(config.seed)\n",
    "config.results_dir.mkdir(parents=True, exist_ok=True)\n",
    "\n",
    "print(\"Configuration:\")\n",
    "for key, value in vars(config).items():\n",
    "    print(f\"  {key}: {value}\")"
   ]
  },
  {
   "cell_type": "markdown",
   "metadata": {},
   "source": [
    "## 3. 테스트 데이터셋 준비"
   ]
  },
  {
   "cell_type": "code",
   "execution_count": 3,
   "metadata": {},
   "outputs": [
    {
     "name": "stdout",
     "output_type": "stream",
     "text": [
      "Test samples: 83\n",
      "Class distribution (test):\n",
      "  broken_large: 20\n",
      "  broken_small: 22\n",
      "  contamination: 21\n",
      "          good: 20\n",
      "DataLoader batches: 83 | batch_size=1\n"
     ]
    }
   ],
   "source": [
    "# 테스트 데이터셋 준비\n",
    "test_root = Path(config.test_data_root)\n",
    "if not test_root.exists():\n",
    "    raise FileNotFoundError(f\"Test data directory not found: {test_root}\")\n",
    "\n",
    "transform = get_data_transforms(config.image_size, config.center_crop)\n",
    "test_dataset = RD_Dataset(root=test_root, transform=transform, phase='test')\n",
    "print(f\"Test samples: {len(test_dataset)}\")\n",
    "\n",
    "# 클래스 분포 확인\n",
    "defect_types, counts = np.unique(test_dataset.types, return_counts=True)\n",
    "print(\"Class distribution (test):\")\n",
    "for cls, cnt in zip(defect_types, counts):\n",
    "    print(f\"  {cls:>12}: {cnt}\")\n",
    "\n",
    "test_loader = DataLoader(\n",
    "    test_dataset,\n",
    "    batch_size=config.batch_size,\n",
    "    shuffle=False,\n",
    "    num_workers=config.num_workers,\n",
    "    pin_memory=config.pin_memory,\n",
    "    drop_last=False,\n",
    ")\n",
    "\n",
    "print(f\"DataLoader batches: {len(test_loader)} | batch_size={config.batch_size}\")"
   ]
  },
  {
   "cell_type": "markdown",
   "metadata": {},
   "source": [
    "## 4. 공통 평가 함수 정의"
   ]
  },
  {
   "cell_type": "code",
   "execution_count": 4,
   "metadata": {},
   "outputs": [
    {
     "name": "stdout",
     "output_type": "stream",
     "text": [
      "✅ 공통 평가 함수 정의 완료\n"
     ]
    }
   ],
   "source": [
    "def normalize_scores(scores: np.ndarray) -> np.ndarray:\n",
    "    \"\"\"스코어를 0~1 범위로 정규화합니다.\"\"\"\n",
    "    if scores.size == 0:\n",
    "        return scores\n",
    "    min_v = scores.min()\n",
    "    max_v = scores.max()\n",
    "    if math.isclose(max_v, min_v):\n",
    "        return np.zeros_like(scores)\n",
    "    return (scores - min_v) / (max_v - min_v)\n",
    "\n",
    "\n",
    "def calculate_metrics(scores, labels, model_name):\n",
    "    \"\"\"성능 지표를 계산합니다.\"\"\"\n",
    "    labels_array = np.array(labels, dtype=np.int64)\n",
    "    scores_array = np.array(scores, dtype=np.float32)\n",
    "    norm_scores = normalize_scores(scores_array)\n",
    "    \n",
    "    # ROC-AUC 계산\n",
    "    try:\n",
    "        if len(np.unique(labels_array)) < 2:\n",
    "            roc_auc = float('nan')\n",
    "        else:\n",
    "            roc_auc = roc_auc_score(labels_array, norm_scores)\n",
    "    except ValueError:\n",
    "        roc_auc = float('nan')\n",
    "    \n",
    "    # 최적 threshold 찾기\n",
    "    thresholds = np.linspace(0.0, 1.0, 101)\n",
    "    best_f1 = 0\n",
    "    best_metrics = {}\n",
    "    \n",
    "    for thr in thresholds:\n",
    "        preds = (norm_scores >= thr).astype(int)\n",
    "        \n",
    "        precision, recall, f1, _ = precision_recall_fscore_support(\n",
    "            labels_array, preds, average='binary', zero_division=0\n",
    "        )\n",
    "        accuracy = accuracy_score(labels_array, preds)\n",
    "        \n",
    "        if f1 > best_f1:\n",
    "            best_f1 = f1\n",
    "            best_metrics = {\n",
    "                'model': model_name,\n",
    "                'threshold': thr,\n",
    "                'accuracy': accuracy,\n",
    "                'precision': precision,\n",
    "                'recall': recall,\n",
    "                'f1': f1,\n",
    "                'roc_auc': roc_auc,\n",
    "            }\n",
    "    \n",
    "    return best_metrics\n",
    "\n",
    "print(\"✅ 공통 평가 함수 정의 완료\")"
   ]
  },
  {
   "cell_type": "markdown",
   "metadata": {},
   "source": [
    "## 5. ResNet50 RD 모델 평가 (표준 방식)"
   ]
  },
  {
   "cell_type": "code",
   "execution_count": 5,
   "metadata": {},
   "outputs": [
    {
     "name": "stdout",
     "output_type": "stream",
     "text": [
      "============================================================\n",
      "[1/2] ResNet50 RD 표준 평가 시작\n",
      "============================================================\n",
      "🔄 ResNet50 RD 표준 평가...\n"
     ]
    },
    {
     "data": {
      "application/vnd.jupyter.widget-view+json": {
       "model_id": "be0a0bb179db45a5972c83dcbbb7cc84",
       "version_major": 2,
       "version_minor": 0
      },
      "text/plain": [
       "ResNet50 Standard:   0%|          | 0/83 [00:00<?, ?it/s]"
      ]
     },
     "metadata": {},
     "output_type": "display_data"
    },
    {
     "name": "stdout",
     "output_type": "stream",
     "text": [
      "\n",
      "✅ ResNet50 Results:\n",
      "  MODEL       : ResNet50 RD\n",
      "  THRESHOLD   : 0.090\n",
      "  ACCURACY    : 1.0000\n",
      "  PRECISION   : 1.0000\n",
      "  RECALL      : 1.0000\n",
      "  F1          : 1.0000\n",
      "  ROC_AUC     : 1.0000\n"
     ]
    }
   ],
   "source": [
    "def evaluate_resnet_rd_standard(checkpoint_path, test_loader, config):\n",
    "    \"\"\"ResNet RD 모델의 표준 평가 방식 (RD_Tester.ipynb와 동일)\"\"\"\n",
    "    device = config.device\n",
    "    \n",
    "    # 모델 로드\n",
    "    encoder, bn = resnet50(pretrained=True)\n",
    "    encoder = encoder.to(device)\n",
    "    bn = bn.to(device)\n",
    "    encoder.eval()\n",
    "    \n",
    "    decoder = de_resnet50(pretrained=False)\n",
    "    decoder = decoder.to(device)\n",
    "    \n",
    "    # 체크포인트 로드\n",
    "    ckp = torch.load(checkpoint_path, map_location=device)\n",
    "    # memory 키 제거 (중요!)\n",
    "    for k, v in list(ckp['bn'].items()):\n",
    "        if 'memory' in k:\n",
    "            ckp['bn'].pop(k)\n",
    "    \n",
    "    decoder.load_state_dict(ckp['decoder'])\n",
    "    bn.load_state_dict(ckp['bn'])\n",
    "    bn.eval()\n",
    "    decoder.eval()\n",
    "    \n",
    "    all_sample_scores = []\n",
    "    all_labels = []\n",
    "    all_types = []\n",
    "    \n",
    "    print(\"🔄 ResNet50 RD 표준 평가...\")\n",
    "    progress_bar = tqdm(enumerate(test_loader), total=len(test_loader), desc=\"ResNet50 Standard\")\n",
    "    \n",
    "    with torch.no_grad():\n",
    "        for batch_idx, (images, labels, defect_types) in progress_bar:\n",
    "            images = images.to(device)\n",
    "            \n",
    "            # RD forward (RD_Tester 방식)\n",
    "            inputs = encoder(images)\n",
    "            outputs = decoder(bn(inputs))\n",
    "            \n",
    "            # Anomaly map 계산 (마지막 스케일만)\n",
    "            fs = inputs[-1]  # student feature\n",
    "            ft = outputs[-1]  # teacher feature\n",
    "            \n",
    "            a_map = 1 - F.cosine_similarity(fs, ft)\n",
    "            a_map = torch.unsqueeze(a_map, dim=1)\n",
    "            a_map = F.interpolate(a_map, size=config.center_crop, mode='bilinear', align_corners=True)\n",
    "            anomaly_map = a_map[0, 0, :, :].to('cpu').detach().numpy()\n",
    "            \n",
    "            # Gaussian filter\n",
    "            anomaly_map = gaussian_filter(anomaly_map, sigma=config.gaussian_sigma)\n",
    "            \n",
    "            # Sample score\n",
    "            sample_score = float(np.max(anomaly_map))\n",
    "            all_sample_scores.append(sample_score)\n",
    "            \n",
    "            # Labels\n",
    "            labels_np = labels.detach().cpu().numpy().astype(int)\n",
    "            all_labels.extend(labels_np.tolist())\n",
    "            all_types.extend(list(defect_types))\n",
    "            \n",
    "            progress_bar.set_postfix({'max_score': f\"{sample_score:.4f}\"})\n",
    "    \n",
    "    return all_sample_scores, all_labels, all_types\n",
    "\n",
    "\n",
    "# ResNet50 평가 실행\n",
    "print(\"=\" * 60)\n",
    "print(\"[1/2] ResNet50 RD 표준 평가 시작\")\n",
    "print(\"=\" * 60)\n",
    "\n",
    "resnet_scores, resnet_labels, resnet_types = evaluate_resnet_rd_standard(\n",
    "    config.resnet50_checkpoint, test_loader, config\n",
    ")\n",
    "resnet_metrics = calculate_metrics(resnet_scores, resnet_labels, \"ResNet50 RD\")\n",
    "\n",
    "print(f\"\\n✅ ResNet50 Results:\")\n",
    "for key, value in resnet_metrics.items():\n",
    "    if isinstance(value, float) and key != 'threshold':\n",
    "        print(f\"  {key.upper():12}: {value:.4f}\")\n",
    "    elif key == 'threshold':\n",
    "        print(f\"  {key.upper():12}: {value:.3f}\")\n",
    "    else:\n",
    "        print(f\"  {key.upper():12}: {value}\")\n",
    "\n",
    "# 메모리 정리\n",
    "torch.cuda.empty_cache()"
   ]
  },
  {
   "cell_type": "markdown",
   "metadata": {},
   "source": [
    "## 6. ConvNeXt RD 모델 평가 (ResNet 방식으로 공정하게)"
   ]
  },
  {
   "cell_type": "code",
   "execution_count": 6,
   "metadata": {},
   "outputs": [
    {
     "name": "stdout",
     "output_type": "stream",
     "text": [
      "============================================================\n",
      "[2/2] ConvNeXt RD ResNet 방식 평가 시작\n",
      "============================================================\n"
     ]
    },
    {
     "name": "stderr",
     "output_type": "stream",
     "text": [
      "C:\\Users\\Aron\\AppData\\Roaming\\Python\\Python313\\site-packages\\torchvision\\models\\_utils.py:208: UserWarning: The parameter 'pretrained' is deprecated since 0.13 and may be removed in the future, please use 'weights' instead.\n",
      "  warnings.warn(\n",
      "C:\\Users\\Aron\\AppData\\Roaming\\Python\\Python313\\site-packages\\torchvision\\models\\_utils.py:223: UserWarning: Arguments other than a weight enum or `None` for 'weights' are deprecated since 0.13 and may be removed in the future. The current behavior is equivalent to passing `weights=ConvNeXt_Tiny_Weights.IMAGENET1K_V1`. You can also use `weights=ConvNeXt_Tiny_Weights.DEFAULT` to get the most up-to-date weights.\n",
      "  warnings.warn(msg)\n"
     ]
    },
    {
     "name": "stdout",
     "output_type": "stream",
     "text": [
      "Loaded ConvNeXt checkpoint: checkpoints\\convnext_pure_bottle.pth\n",
      "🔄 ConvNeXt RD ResNet 방식 평가...\n"
     ]
    },
    {
     "data": {
      "application/vnd.jupyter.widget-view+json": {
       "model_id": "6cad570123ca44aca90d95cc5f2b131f",
       "version_major": 2,
       "version_minor": 0
      },
      "text/plain": [
       "ConvNeXt ResNet-style:   0%|          | 0/83 [00:00<?, ?it/s]"
      ]
     },
     "metadata": {},
     "output_type": "display_data"
    },
    {
     "name": "stdout",
     "output_type": "stream",
     "text": [
      "\n",
      "✅ ConvNeXt Results (ResNet-style):\n",
      "  MODEL       : ConvNeXt RD (ResNet-style)\n",
      "  THRESHOLD   : 0.060\n",
      "  ACCURACY    : 0.9759\n",
      "  PRECISION   : 0.9692\n",
      "  RECALL      : 1.0000\n",
      "  F1          : 0.9844\n",
      "  ROC_AUC     : 0.9913\n"
     ]
    }
   ],
   "source": [
    "def load_convnext_rd_model(checkpoint_path, device, use_half=False, use_bfloat16=False):\n",
    "    \"\"\"ConvNeXt RD 모델을 로드합니다.\"\"\"\n",
    "    checkpoint_path = Path(checkpoint_path)\n",
    "    if not checkpoint_path.exists():\n",
    "        raise FileNotFoundError(f\"Checkpoint not found: {checkpoint_path}\")\n",
    "\n",
    "    model = rd_convnext_model(pretrained=True)\n",
    "    checkpoint = torch.load(checkpoint_path, map_location=device)\n",
    "    model_state = checkpoint.get('model_state_dict', checkpoint)\n",
    "\n",
    "    bn_state = model_state.get('bn_layer') or model_state.get('bn')\n",
    "    decoder_state = model_state.get('decoder')\n",
    "    if bn_state is None or decoder_state is None:\n",
    "        available_keys = list(model_state.keys())\n",
    "        raise KeyError(\n",
    "            \"Checkpoint does not contain expected keys 'bn_layer' and 'decoder'. \"\n",
    "            f\"Available keys: {available_keys}\"\n",
    "        )\n",
    "\n",
    "    model.bn_layer.load_state_dict(bn_state)\n",
    "    model.decoder.load_state_dict(decoder_state)\n",
    "    model.to(device)\n",
    "    model.eval()\n",
    "\n",
    "    if use_half:\n",
    "        model.half()\n",
    "    elif use_bfloat16:\n",
    "        model.to(torch.bfloat16)\n",
    "\n",
    "    print(f\"Loaded ConvNeXt checkpoint: {checkpoint_path}\")\n",
    "    return model\n",
    "\n",
    "\n",
    "def evaluate_convnext_rd_resnet_style(checkpoint_path, test_loader, config):\n",
    "    \"\"\"ConvNeXt RD 모델을 ResNet 방식으로 평가 (공정한 비교를 위해)\"\"\"\n",
    "    model = load_convnext_rd_model(\n",
    "        checkpoint_path, config.device, config.use_half, config.use_bfloat16\n",
    "    )\n",
    "    \n",
    "    all_sample_scores = []\n",
    "    all_labels = []\n",
    "    all_types = []\n",
    "    \n",
    "    print(\"🔄 ConvNeXt RD ResNet 방식 평가...\")\n",
    "    progress_bar = tqdm(enumerate(test_loader), total=len(test_loader), desc=\"ConvNeXt ResNet-style\")\n",
    "    \n",
    "    with torch.no_grad():\n",
    "        for batch_idx, (images, labels, defect_types) in progress_bar:\n",
    "            images = images.to(config.device)\n",
    "            \n",
    "            # ConvNeXt forward\n",
    "            teacher_features, student_features = model(images)\n",
    "            \n",
    "            # ResNet 방식: 마지막 스케일만 사용\n",
    "            teacher_feat = teacher_features[-1]  # 마지막 스케일\n",
    "            student_feat = student_features[-1]  # 마지막 스케일\n",
    "            \n",
    "            # ResNet과 동일한 anomaly map 계산\n",
    "            a_map = 1 - F.cosine_similarity(student_feat, teacher_feat)\n",
    "            a_map = torch.unsqueeze(a_map, dim=1)\n",
    "            a_map = F.interpolate(a_map, size=config.center_crop, mode='bilinear', align_corners=True)\n",
    "            anomaly_map = a_map[0, 0, :, :].to('cpu').detach().numpy()\n",
    "            \n",
    "            # 동일한 Gaussian filter\n",
    "            anomaly_map = gaussian_filter(anomaly_map, sigma=config.gaussian_sigma)\n",
    "            \n",
    "            # 동일한 sample score 계산\n",
    "            sample_score = float(np.max(anomaly_map))\n",
    "            all_sample_scores.append(sample_score)\n",
    "            \n",
    "            # Labels\n",
    "            labels_np = labels.detach().cpu().numpy().astype(int)\n",
    "            all_labels.extend(labels_np.tolist())\n",
    "            all_types.extend(list(defect_types))\n",
    "            \n",
    "            progress_bar.set_postfix({'max_score': f\"{sample_score:.4f}\"})\n",
    "    \n",
    "    return all_sample_scores, all_labels, all_types\n",
    "\n",
    "\n",
    "# ConvNeXt 평가 실행\n",
    "print(\"=\" * 60)\n",
    "print(\"[2/2] ConvNeXt RD ResNet 방식 평가 시작\")\n",
    "print(\"=\" * 60)\n",
    "\n",
    "convnext_scores, convnext_labels, convnext_types = evaluate_convnext_rd_resnet_style(\n",
    "    config.convnext_checkpoint, test_loader, config\n",
    ")\n",
    "convnext_metrics = calculate_metrics(convnext_scores, convnext_labels, \"ConvNeXt RD (ResNet-style)\")\n",
    "\n",
    "print(f\"\\n✅ ConvNeXt Results (ResNet-style):\")\n",
    "for key, value in convnext_metrics.items():\n",
    "    if isinstance(value, float) and key != 'threshold':\n",
    "        print(f\"  {key.upper():12}: {value:.4f}\")\n",
    "    elif key == 'threshold':\n",
    "        print(f\"  {key.upper():12}: {value:.3f}\")\n",
    "    else:\n",
    "        print(f\"  {key.upper():12}: {value}\")\n",
    "\n",
    "# 메모리 정리\n",
    "torch.cuda.empty_cache()"
   ]
  },
  {
   "cell_type": "markdown",
   "metadata": {},
   "source": [
    "## 7. 공정한 백본 네트워크 비교 결과"
   ]
  },
  {
   "cell_type": "code",
   "execution_count": 7,
   "metadata": {},
   "outputs": [
    {
     "name": "stdout",
     "output_type": "stream",
     "text": [
      "\n",
      "================================================================================\n",
      "🏆 공정한 백본 네트워크 비교 결과\n",
      "================================================================================\n",
      "Metric       | ConvNeXt  | ResNet50  | Diff     | Winner\n",
      "-------------------------------------------------------\n",
      "ACCURACY     | 0.9759    | 1.0000    |  -0.0241 | ResNet50\n",
      "PRECISION    | 0.9692    | 1.0000    |  -0.0308 | ResNet50\n",
      "RECALL       | 1.0000    | 1.0000    |  +0.0000 | Tie\n",
      "F1           | 0.9844    | 1.0000    |  -0.0156 | ResNet50\n",
      "ROC_AUC      | 0.9913    | 1.0000    |  -0.0087 | ResNet50\n",
      "\n",
      "================================================================================\n",
      "📊 최종 결과 요약\n",
      "================================================================================\n",
      "🥇 ResNet50 백본이 우승! (4승 0패 1무)\n",
      "ResNet50의 잔차 연결이 anomaly detection에 더 효과적\n",
      "\n",
      "📈 성능 차이 분석:\n",
      "F1-Score 차이: -0.0156 (1.56%)\n",
      "ROC-AUC 차이: -0.0087 (0.87%)\n",
      "\n",
      "📋 상세 비교 테이블:\n",
      "                     model  accuracy  precision  recall       f1  roc_auc  threshold\n",
      "ConvNeXt RD (ResNet-style)  0.975904   0.969231     1.0 0.984375  0.99127       0.06\n",
      "               ResNet50 RD  1.000000   1.000000     1.0 1.000000  1.00000       0.09\n",
      "\n",
      "💾 공정한 비교 결과 저장: results\\fair_comparison\\bottle_fair_backbone_comparison.csv\n",
      "\n",
      "🎯 공정한 백본 네트워크 비교 완료!\n"
     ]
    }
   ],
   "source": [
    "# 공정한 비교 결과\n",
    "print(\"\\n\" + \"=\" * 80)\n",
    "print(\"🏆 공정한 백본 네트워크 비교 결과\")\n",
    "print(\"=\" * 80)\n",
    "\n",
    "print(f\"{'Metric':<12} | {'ConvNeXt':<9} | {'ResNet50':<9} | {'Diff':<8} | {'Winner'}\")\n",
    "print(\"-\" * 55)\n",
    "\n",
    "metrics_to_compare = ['accuracy', 'precision', 'recall', 'f1', 'roc_auc']\n",
    "convnext_wins = 0\n",
    "resnet_wins = 0\n",
    "ties = 0\n",
    "\n",
    "for metric in metrics_to_compare:\n",
    "    convnext_val = convnext_metrics[metric]\n",
    "    resnet_val = resnet_metrics[metric]\n",
    "    diff = convnext_val - resnet_val\n",
    "    \n",
    "    if abs(diff) < 0.001:\n",
    "        winner = \"Tie\"\n",
    "        ties += 1\n",
    "    elif diff > 0:\n",
    "        winner = \"ConvNeXt\"\n",
    "        convnext_wins += 1\n",
    "    else:\n",
    "        winner = \"ResNet50\"\n",
    "        resnet_wins += 1\n",
    "        \n",
    "    print(f\"{metric.upper():<12} | {convnext_val:<9.4f} | {resnet_val:<9.4f} | {diff:+8.4f} | {winner}\")\n",
    "\n",
    "print(\"\\n\" + \"=\" * 80)\n",
    "print(\"📊 최종 결과 요약\")\n",
    "print(\"=\" * 80)\n",
    "\n",
    "if convnext_wins > resnet_wins:\n",
    "    print(f\"🥇 ConvNeXt 백본이 우승! ({convnext_wins}승 {resnet_wins}패 {ties}무)\")\n",
    "    print(\"ConvNeXt의 계층적 특징 추출이 anomaly detection에 더 효과적\")\n",
    "elif resnet_wins > convnext_wins:\n",
    "    print(f\"🥇 ResNet50 백본이 우승! ({resnet_wins}승 {convnext_wins}패 {ties}무)\")\n",
    "    print(\"ResNet50의 잔차 연결이 anomaly detection에 더 효과적\")\n",
    "else:\n",
    "    print(f\"🤝 무승부! ({convnext_wins}승 {resnet_wins}패 {ties}무)\")\n",
    "    print(\"두 백본 네트워크의 성능이 유사함\")\n",
    "\n",
    "# 성능 차이 분석\n",
    "print(\"\\n📈 성능 차이 분석:\")\n",
    "f1_diff = convnext_metrics['f1'] - resnet_metrics['f1']\n",
    "roc_diff = convnext_metrics['roc_auc'] - resnet_metrics['roc_auc']\n",
    "\n",
    "print(f\"F1-Score 차이: {f1_diff:+.4f} ({abs(f1_diff)*100:.2f}%)\")\n",
    "print(f\"ROC-AUC 차이: {roc_diff:+.4f} ({abs(roc_diff)*100:.2f}%)\")\n",
    "\n",
    "if abs(f1_diff) < 0.01 and abs(roc_diff) < 0.01:\n",
    "    print(\"⚖️  성능 차이가 매우 작아 실질적으로 유사한 성능\")\n",
    "\n",
    "# 비교 테이블 생성\n",
    "comparison_fair_df = pd.DataFrame([\n",
    "    {**convnext_metrics, 'evaluation_method': 'ResNet-style'},\n",
    "    {**resnet_metrics, 'evaluation_method': 'Standard'}\n",
    "])\n",
    "\n",
    "print(\"\\n📋 상세 비교 테이블:\")\n",
    "display_cols = ['model', 'accuracy', 'precision', 'recall', 'f1', 'roc_auc', 'threshold']\n",
    "print(comparison_fair_df[display_cols].to_string(index=False))\n",
    "\n",
    "# 결과 저장\n",
    "fair_comparison_csv = config.results_dir / f\"{config.class_name}_fair_backbone_comparison.csv\"\n",
    "comparison_fair_df.to_csv(fair_comparison_csv, index=False)\n",
    "print(f\"\\n💾 공정한 비교 결과 저장: {fair_comparison_csv}\")\n",
    "\n",
    "print(\"\\n🎯 공정한 백본 네트워크 비교 완료!\")"
   ]
  },
  {
   "cell_type": "markdown",
   "metadata": {},
   "source": [
    "## 8. 시각화 및 추가 분석"
   ]
  },
  {
   "cell_type": "code",
   "execution_count": 8,
   "metadata": {},
   "outputs": [
    {
     "data": {
      "image/png": "[encoded data removed]",
      "text/plain": [
       "<Figure size 1200x600 with 1 Axes>"
      ]
     },
     "metadata": {},
     "output_type": "display_data"
    },
    {
     "name": "stdout",
     "output_type": "stream",
     "text": [
      "📊 시각화 저장됨: results\\fair_comparison\\fair_backbone_comparison.png\n"
     ]
    }
   ],
   "source": [
    "# 성능 비교 시각화\n",
    "import matplotlib.pyplot as plt\n",
    "plt.style.use('default')\n",
    "\n",
    "fig, ax = plt.subplots(1, 1, figsize=(12, 6))\n",
    "\n",
    "metrics = ['Accuracy', 'Precision', 'Recall', 'F1-Score', 'ROC-AUC']\n",
    "convnext_values = [convnext_metrics['accuracy'], convnext_metrics['precision'], \n",
    "                   convnext_metrics['recall'], convnext_metrics['f1'], convnext_metrics['roc_auc']]\n",
    "resnet_values = [resnet_metrics['accuracy'], resnet_metrics['precision'],\n",
    "                 resnet_metrics['recall'], resnet_metrics['f1'], resnet_metrics['roc_auc']]\n",
    "\n",
    "x = np.arange(len(metrics))\n",
    "width = 0.35\n",
    "\n",
    "bars1 = ax.bar(x - width/2, convnext_values, width, label='ConvNeXt', color='#1f77b4', alpha=0.8)\n",
    "bars2 = ax.bar(x + width/2, resnet_values, width, label='ResNet50', color='#ff7f0e', alpha=0.8)\n",
    "\n",
    "ax.set_ylabel('Score')\n",
    "ax.set_title('Fair Backbone Network Comparison: ConvNeXt vs ResNet50\\n(Evaluated using ResNet standard method)', \n",
    "             fontsize=14, pad=20)\n",
    "ax.set_xticks(x)\n",
    "ax.set_xticklabels(metrics)\n",
    "ax.legend()\n",
    "ax.set_ylim([0, 1.05])\n",
    "ax.grid(axis='y', alpha=0.3)\n",
    "\n",
    "# 막대 위에 값 표시\n",
    "def add_value_labels(bars):\n",
    "    for bar in bars:\n",
    "        height = bar.get_height()\n",
    "        ax.text(bar.get_x() + bar.get_width()/2., height + 0.01,\n",
    "                f'{height:.3f}', ha='center', va='bottom', fontsize=9)\n",
    "\n",
    "add_value_labels(bars1)\n",
    "add_value_labels(bars2)\n",
    "\n",
    "plt.tight_layout()\n",
    "plt.savefig(config.results_dir / 'fair_backbone_comparison.png', dpi=150, bbox_inches='tight')\n",
    "plt.show()\n",
    "\n",
    "print(f\"📊 시각화 저장됨: {config.results_dir / 'fair_backbone_comparison.png'}\")"
   ]
  },
  {
   "cell_type": "markdown",
   "metadata": {},
   "source": [
    "## 9. 결론 및 분석 요약"
   ]
  },
  {
   "cell_type": "code",
   "execution_count": 9,
   "metadata": {},
   "outputs": [
    {
     "name": "stdout",
     "output_type": "stream",
     "text": [
      "================================================================================\n",
      "📝 공정한 백본 네트워크 비교 분석 요약\n",
      "================================================================================\n",
      "\n",
      "🔬 실험 조건:\n",
      "  - 동일한 평가 프로토콜: ResNet RD_Tester.ipynb 방식\n",
      "  - 동일한 feature 사용: 마지막 스케일만\n",
      "  - 동일한 similarity: Cosine similarity\n",
      "  - 동일한 후처리: Gaussian filter (σ=4)\n",
      "  - 동일한 데이터셋: MVTec Bottle (83 test samples)\n",
      "\n",
      "📊 주요 발견:\n",
      "  - ResNet50이 4개 지표에서 우승\n",
      "  - 특히 F1-Score에서 강세\n",
      "  - ResNet의 residual connection이 anomaly detection에 유리\n",
      "\n",
      "🎯 실무적 시사점:\n",
      "  - 성능 차이가 2% 미만으로 실무적으로는 유사\n",
      "  - 연산 효율성, 메모리 사용량 등을 고려하여 선택 가능\n",
      "  - 두 백본 모두 anomaly detection에 적합\n",
      "\n",
      "💡 추후 연구 방향:\n",
      "  - 다른 MVTec 클래스에서도 동일한 패턴인지 검증\n",
      "  - Multi-scale vs Single-scale 평가 방식의 공정한 비교\n",
      "  - 백본 네트워크별 최적 하이퍼파라미터 탐색\n",
      "  - 연산 효율성 및 메모리 사용량 비교\n",
      "\n",
      "✅ 공정한 백본 네트워크 비교 분석 완료!\n",
      "================================================================================\n"
     ]
    }
   ],
   "source": [
    "print(\"=\" * 80)\n",
    "print(\"📝 공정한 백본 네트워크 비교 분석 요약\")\n",
    "print(\"=\" * 80)\n",
    "\n",
    "print(\"\\n🔬 실험 조건:\")\n",
    "print(\"  - 동일한 평가 프로토콜: ResNet RD_Tester.ipynb 방식\")\n",
    "print(\"  - 동일한 feature 사용: 마지막 스케일만\")\n",
    "print(\"  - 동일한 similarity: Cosine similarity\")\n",
    "print(\"  - 동일한 후처리: Gaussian filter (σ=4)\")\n",
    "print(\"  - 동일한 데이터셋: MVTec Bottle (83 test samples)\")\n",
    "\n",
    "print(\"\\n📊 주요 발견:\")\n",
    "if convnext_wins > resnet_wins:\n",
    "    print(f\"  - ConvNeXt가 {convnext_wins}개 지표에서 우승\")\n",
    "    print(f\"  - 특히 {'F1-Score' if convnext_metrics['f1'] > resnet_metrics['f1'] else 'ROC-AUC'}에서 강세\")\n",
    "    print(\"  - ConvNeXt의 depthwise convolution과 LayerNorm이 효과적\")\n",
    "elif resnet_wins > convnext_wins:\n",
    "    print(f\"  - ResNet50이 {resnet_wins}개 지표에서 우승\")\n",
    "    print(f\"  - 특히 {'F1-Score' if resnet_metrics['f1'] > convnext_metrics['f1'] else 'ROC-AUC'}에서 강세\")\n",
    "    print(\"  - ResNet의 residual connection이 anomaly detection에 유리\")\n",
    "else:\n",
    "    print(\"  - 두 백본 네트워크의 성능이 매우 유사\")\n",
    "    print(\"  - 백본 선택보다는 RD 구조 자체가 더 중요할 가능성\")\n",
    "\n",
    "print(\"\\n🎯 실무적 시사점:\")\n",
    "performance_gap = abs(convnext_metrics['f1'] - resnet_metrics['f1'])\n",
    "if performance_gap < 0.02:\n",
    "    print(\"  - 성능 차이가 2% 미만으로 실무적으로는 유사\")\n",
    "    print(\"  - 연산 효율성, 메모리 사용량 등을 고려하여 선택 가능\")\n",
    "    print(\"  - 두 백본 모두 anomaly detection에 적합\")\n",
    "else:\n",
    "    better_model = 'ConvNeXt' if convnext_metrics['f1'] > resnet_metrics['f1'] else 'ResNet50'\n",
    "    print(f\"  - {better_model}가 명확히 우수한 성능을 보임\")\n",
    "    print(f\"  - Anomaly detection 태스크에서는 {better_model} 백본 권장\")\n",
    "\n",
    "print(\"\\n💡 추후 연구 방향:\")\n",
    "print(\"  - 다른 MVTec 클래스에서도 동일한 패턴인지 검증\")\n",
    "print(\"  - Multi-scale vs Single-scale 평가 방식의 공정한 비교\")\n",
    "print(\"  - 백본 네트워크별 최적 하이퍼파라미터 탐색\")\n",
    "print(\"  - 연산 효율성 및 메모리 사용량 비교\")\n",
    "\n",
    "print(\"\\n✅ 공정한 백본 네트워크 비교 분석 완료!\")\n",
    "print(\"=\" * 80)"
   ]
  }
 ],
 "metadata": {
  "kernelspec": {
   "display_name": "Python 3",
   "language": "python",
   "name": "python3"
  },
  "language_info": {
   "codemirror_mode": {
    "name": "ipython",
    "version": 3
   },
   "file_extension": ".py",
   "mimetype": "text/x-python",
   "name": "python",
   "nbconvert_exporter": "python",
   "pygments_lexer": "ipython3",
   "version": "3.13.1"
  }
 },
 "nbformat": 4,
 "nbformat_minor": 4
}
