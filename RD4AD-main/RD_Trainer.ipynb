{
 "cells": [
  {
   "cell_type": "code",
   "execution_count": 1,
   "id": "824e72c7",
   "metadata": {},
   "outputs": [],
   "source": [
    "# !pip install natsort"
   ]
  },
  {
   "cell_type": "code",
   "execution_count": 2,
   "id": "f926c5c5",
   "metadata": {},
   "outputs": [
    {
     "data": {
      "text/plain": [
       "True"
      ]
     },
     "execution_count": 2,
     "metadata": {},
     "output_type": "execute_result"
    }
   ],
   "source": [
    "import torch\n",
    "\n",
    "torch.cuda.is_available()"
   ]
  },
  {
   "cell_type": "code",
   "execution_count": 3,
   "id": "9c265986",
   "metadata": {},
   "outputs": [
    {
     "data": {
      "text/plain": [
       "'NVIDIA GeForce RTX 3060 Laptop GPU'"
      ]
     },
     "execution_count": 3,
     "metadata": {},
     "output_type": "execute_result"
    }
   ],
   "source": [
    "torch.cuda.get_device_name(0)"
   ]
  },
  {
   "cell_type": "code",
   "execution_count": 4,
   "id": "01490a26",
   "metadata": {},
   "outputs": [
    {
     "data": {
      "text/plain": [
       "1"
      ]
     },
     "execution_count": 4,
     "metadata": {},
     "output_type": "execute_result"
    }
   ],
   "source": [
    "torch.cuda.device_count()"
   ]
  },
  {
   "cell_type": "markdown",
   "id": "f91274ef",
   "metadata": {},
   "source": [
    "# 데이터셋 선택 및 하이퍼파라미터 설정\n",
    "▼▼▼▼▼▼▼▼▼▼▼▼▼▼▼▼▼▼▼▼▼▼▼▼▼▼▼▼▼▼▼▼▼▼"
   ]
  },
  {
   "cell_type": "code",
   "execution_count": 5,
   "id": "0c52a3f4",
   "metadata": {},
   "outputs": [
    {
     "name": "stdout",
     "output_type": "stream",
     "text": [
      "다음 데이터셋들이 학습됩니다 :  ['bottle', 'cable', 'capsule', 'carpet', 'grid', 'hazelnut', 'leather', 'metal_nut', 'pill', 'screw', 'tile', 'toothbrush', 'transistor', 'wood', 'zipper']\n"
     ]
    }
   ],
   "source": [
    "import time\n",
    "import natsort\n",
    "import os\n",
    "\n",
    "folder_list = os.listdir(\"./data/\")\n",
    "# .ipynb_checkpoints 폴더와 숨김 폴더 제외\n",
    "item_list = [f for f in folder_list if not f.startswith('.')]\n",
    "item_list = natsort.natsorted(item_list)\n",
    "\n",
    "print(\"다음 데이터셋들이 학습됩니다 : \", item_list)"
   ]
  },
  {
   "cell_type": "code",
   "execution_count": 6,
   "id": "bedc091c",
   "metadata": {},
   "outputs": [
    {
     "name": "stdout",
     "output_type": "stream",
     "text": [
      "조정된 설정: epochs=50, batch_size=8\n",
      "예상 학습 시간: 약 6.2시간\n"
     ]
    }
   ],
   "source": [
    "epochs = 50  # 200에서 50으로 줄임\n",
    "batch_size = 8  # 16에서 32로 늘림 (GPU 메모리가 충분하면 64도 가능)\n",
    "\n",
    "learning_rate = 0.005\n",
    "image_size = 256\n",
    "\n",
    "print(f\"조정된 설정: epochs={epochs}, batch_size={batch_size}\")\n",
    "print(f\"예상 학습 시간: 약 {15 * epochs * 0.5 / 60:.1f}시간\")"
   ]
  },
  {
   "cell_type": "markdown",
   "id": "3414afa4",
   "metadata": {},
   "source": [
    "▲▲▲▲▲▲▲▲▲▲▲▲▲▲▲▲▲▲▲▲▲▲▲▲▲▲▲▲▲▲▲▲▲▲"
   ]
  },
  {
   "cell_type": "markdown",
   "id": "549ba101",
   "metadata": {},
   "source": [
    "# Main.py"
   ]
  },
  {
   "cell_type": "code",
   "execution_count": 7,
   "id": "c20f67d8",
   "metadata": {},
   "outputs": [],
   "source": [
    "import torch\n",
    "from dataset import get_data_transforms\n",
    "from torchvision.datasets import ImageFolder\n",
    "import numpy as np\n",
    "import random\n",
    "import os\n",
    "from torch.utils.data import DataLoader\n",
    "# ResNet-50 사용\n",
    "from resnet import resnet50, wide_resnet50_2\n",
    "from de_resnet import de_resnet50, de_wide_resnet50_2\n",
    "from dataset import RD_Dataset\n",
    "import torch.backends.cudnn as cudnn\n",
    "import argparse\n",
    "from torch.nn import functional as F"
   ]
  },
  {
   "cell_type": "code",
   "execution_count": 8,
   "id": "e9913144",
   "metadata": {},
   "outputs": [],
   "source": [
    "def setup_seed(seed):\n",
    "    torch.manual_seed(seed)\n",
    "    torch.cuda.manual_seed_all(seed)\n",
    "    np.random.seed(seed)\n",
    "    random.seed(seed)\n",
    "    torch.backends.cudnn.deterministic = True\n",
    "    torch.backends.cudnn.benchmark = False"
   ]
  },
  {
   "cell_type": "code",
   "execution_count": 9,
   "id": "1a1f6b16",
   "metadata": {},
   "outputs": [],
   "source": [
    "def loss_fucntion(a, b):\n",
    "    #mse_loss = torch.nn.MSELoss()\n",
    "    cos_loss = torch.nn.CosineSimilarity()\n",
    "    loss = 0\n",
    "    for item in range(len(a)):\n",
    "        #print(a[item].shape)\n",
    "        #print(b[item].shape)\n",
    "        #loss += 0.1*mse_loss(a[item], b[item])\n",
    "        loss += torch.mean(1-cos_loss(a[item].view(a[item].shape[0],-1),\n",
    "                                      b[item].view(b[item].shape[0],-1)))\n",
    "    return loss"
   ]
  },
  {
   "cell_type": "code",
   "execution_count": 10,
   "id": "d1cf0108",
   "metadata": {},
   "outputs": [],
   "source": [
    "def loss_concat(a, b):\n",
    "    mse_loss = torch.nn.MSELoss()\n",
    "    cos_loss = torch.nn.CosineSimilarity()\n",
    "    loss = 0\n",
    "    a_map = []\n",
    "    b_map = []\n",
    "    size = a[0].shape[-1]\n",
    "    for item in range(len(a)):\n",
    "        #loss += mse_loss(a[item], b[item])\n",
    "        a_map.append(F.interpolate(a[item], size=size, mode='bilinear', align_corners=True))\n",
    "        b_map.append(F.interpolate(b[item], size=size, mode='bilinear', align_corners=True))\n",
    "    a_map = torch.cat(a_map,1)\n",
    "    b_map = torch.cat(b_map,1)\n",
    "    loss += torch.mean(1-cos_loss(a_map,b_map))\n",
    "    return loss"
   ]
  },
  {
   "cell_type": "code",
   "execution_count": 11,
   "id": "bb708b5c",
   "metadata": {},
   "outputs": [],
   "source": [
    "def train(_class_):\n",
    "    print(_class_)\n",
    "        \n",
    "    device = 'cuda' if torch.cuda.is_available() else 'cpu'\n",
    "    print(device)\n",
    "\n",
    "    data_transform = get_data_transforms(image_size, image_size)\n",
    "    \n",
    "    train_path = './data/' + _class_ + '/train'\n",
    "    ckp_path = './checkpoints/' + 'res50_'+_class_+'.pth'  # ResNet-50 checkpoint\n",
    "    \n",
    "    train_data = ImageFolder(root=train_path, transform=data_transform)\n",
    "    train_dataloader = torch.utils.data.DataLoader(train_data, batch_size=batch_size, shuffle=True)\n",
    "\n",
    "    # ResNet-50 사용 (일반 ResNet-50)\n",
    "    encoder, bn = resnet50(pretrained=True)\n",
    "    encoder = encoder.to(device)\n",
    "    bn = bn.to(device)\n",
    "    encoder.eval()\n",
    "    decoder = de_resnet50(pretrained=False)\n",
    "    decoder = decoder.to(device)\n",
    "\n",
    "    optimizer = torch.optim.Adam(list(decoder.parameters())+list(bn.parameters()), lr=learning_rate, betas=(0.5,0.999))\n",
    "\n",
    "    for epoch in range(epochs):\n",
    "        start = time.time() \n",
    "        \n",
    "        bn.train()\n",
    "        decoder.train()\n",
    "        loss_list = []\n",
    "        for img, label in train_dataloader:\n",
    "            img = img.to(device)\n",
    "            inputs = encoder(img)\n",
    "            outputs = decoder(bn(inputs))\n",
    "            loss = loss_fucntion(inputs, outputs)\n",
    "            optimizer.zero_grad()\n",
    "            loss.backward()\n",
    "            optimizer.step()\n",
    "            loss_list.append(loss.item())\n",
    "        print('epoch [{}/{}], loss:{:.4f}'.format(epoch + 1, epochs, np.mean(loss_list)))\n",
    "        print(\"time :\",time.time() - start)\n",
    "        \n",
    "        if (epoch + 1) % 10 == 0:\n",
    "            torch.save({'bn': bn.state_dict(),'decoder': decoder.state_dict()}, ckp_path)\n",
    "            \n",
    "    return loss"
   ]
  },
  {
   "cell_type": "markdown",
   "id": "5fb3b48e",
   "metadata": {},
   "source": [
    "# 학습 시작"
   ]
  },
  {
   "cell_type": "code",
   "execution_count": 12,
   "id": "5458778a",
   "metadata": {},
   "outputs": [],
   "source": [
    "setup_seed(111)\n",
    "\n",
    "import warnings\n",
    "warnings.simplefilter(action='ignore', category=FutureWarning)"
   ]
  },
  {
   "cell_type": "code",
   "execution_count": 13,
   "id": "2da1398e",
   "metadata": {
    "scrolled": true
   },
   "outputs": [
    {
     "name": "stdout",
     "output_type": "stream",
     "text": [
      "============================================================\n",
      "Training ResNet-50 on bottle dataset\n",
      "============================================================\n",
      "bottle\n",
      "cuda\n"
     ]
    },
    {
     "name": "stderr",
     "output_type": "stream",
     "text": [
      "0.5%"
     ]
    },
    {
     "name": "stdout",
     "output_type": "stream",
     "text": [
      "Downloading: \"https://download.pytorch.org/models/resnet50-0676ba61.pth\" to C:\\Users\\Aron/.cache\\torch\\hub\\checkpoints\\resnet50-0676ba61.pth\n"
     ]
    },
    {
     "name": "stderr",
     "output_type": "stream",
     "text": [
      "100.0%\n"
     ]
    },
    {
     "name": "stdout",
     "output_type": "stream",
     "text": [
      "epoch [1/50], loss:0.8988\n",
      "time : 22.92002296447754\n",
      "epoch [2/50], loss:0.3409\n",
      "time : 10.89041018486023\n",
      "epoch [3/50], loss:0.2190\n",
      "time : 10.91915512084961\n",
      "epoch [4/50], loss:0.1777\n",
      "time : 10.808614253997803\n",
      "epoch [5/50], loss:0.1570\n",
      "time : 10.83558988571167\n",
      "epoch [6/50], loss:0.1431\n",
      "time : 12.181066751480103\n",
      "epoch [7/50], loss:0.1373\n",
      "time : 16.992446660995483\n",
      "epoch [8/50], loss:0.1275\n",
      "time : 17.754687070846558\n",
      "epoch [9/50], loss:0.1230\n",
      "time : 19.393676280975342\n",
      "epoch [10/50], loss:0.1163\n",
      "time : 18.612449407577515\n",
      "epoch [11/50], loss:0.1126\n",
      "time : 19.648245096206665\n",
      "epoch [12/50], loss:0.1102\n",
      "time : 17.848095178604126\n",
      "epoch [13/50], loss:0.1070\n",
      "time : 19.853597164154053\n",
      "epoch [14/50], loss:0.1031\n",
      "time : 19.495097398757935\n",
      "epoch [15/50], loss:0.1008\n",
      "time : 17.166810512542725\n",
      "epoch [16/50], loss:0.0979\n",
      "time : 15.53784441947937\n",
      "epoch [17/50], loss:0.0971\n",
      "time : 19.033114433288574\n",
      "epoch [18/50], loss:0.0932\n",
      "time : 18.27392601966858\n",
      "epoch [19/50], loss:0.0908\n",
      "time : 19.811684608459473\n",
      "epoch [20/50], loss:0.0890\n",
      "time : 20.41667342185974\n",
      "epoch [21/50], loss:0.0869\n",
      "time : 18.672937393188477\n",
      "epoch [22/50], loss:0.0883\n",
      "time : 18.849282026290894\n",
      "epoch [23/50], loss:0.0830\n",
      "time : 18.470237493515015\n",
      "epoch [24/50], loss:0.0825\n",
      "time : 19.81515073776245\n",
      "epoch [25/50], loss:0.0821\n",
      "time : 19.36031675338745\n",
      "epoch [26/50], loss:0.0786\n",
      "time : 17.93486499786377\n",
      "epoch [27/50], loss:0.0778\n",
      "time : 18.4643714427948\n",
      "epoch [28/50], loss:0.0756\n",
      "time : 19.12171459197998\n",
      "epoch [29/50], loss:0.0758\n",
      "time : 19.49697184562683\n",
      "epoch [30/50], loss:0.0755\n",
      "time : 18.52183961868286\n",
      "epoch [31/50], loss:0.0740\n",
      "time : 18.129506587982178\n",
      "epoch [32/50], loss:0.0729\n",
      "time : 19.08236575126648\n",
      "epoch [33/50], loss:0.0709\n",
      "time : 18.623182773590088\n",
      "epoch [34/50], loss:0.0702\n",
      "time : 19.0412015914917\n",
      "epoch [35/50], loss:0.0700\n",
      "time : 18.233472108840942\n",
      "epoch [36/50], loss:0.0677\n",
      "time : 18.486745834350586\n",
      "epoch [37/50], loss:0.0680\n",
      "time : 19.273098945617676\n",
      "epoch [38/50], loss:0.0680\n",
      "time : 19.963855981826782\n",
      "epoch [39/50], loss:0.0649\n",
      "time : 19.76953125\n",
      "epoch [40/50], loss:0.0650\n",
      "time : 21.92502522468567\n",
      "epoch [41/50], loss:0.0636\n",
      "time : 18.851673364639282\n",
      "epoch [42/50], loss:0.0637\n",
      "time : 21.6608407497406\n",
      "epoch [43/50], loss:0.0622\n",
      "time : 21.776928424835205\n",
      "epoch [44/50], loss:0.0626\n",
      "time : 19.913299322128296\n",
      "epoch [45/50], loss:0.0607\n",
      "time : 21.521602153778076\n",
      "epoch [46/50], loss:0.0624\n",
      "time : 22.92113208770752\n",
      "epoch [47/50], loss:0.0596\n",
      "time : 24.25610089302063\n",
      "epoch [48/50], loss:0.0593\n",
      "time : 24.452402353286743\n",
      "epoch [49/50], loss:0.0583\n",
      "time : 23.322298526763916\n",
      "epoch [50/50], loss:0.0593\n",
      "time : 22.684302806854248\n",
      "Total training time for bottle: 976.45 seconds\n",
      "============================================================\n",
      "Training completed! Checkpoint saved as: ./checkpoints/res50_bottle.pth\n"
     ]
    }
   ],
   "source": [
    "# bottle 데이터셋만 학습 (ResNet-50)\n",
    "print(\"=\" * 60)\n",
    "print(\"Training ResNet-50 on bottle dataset\")\n",
    "print(\"=\" * 60)\n",
    "\n",
    "start_total = time.time()\n",
    "train('bottle')\n",
    "print(f\"Total training time for bottle: {time.time() - start_total:.2f} seconds\")\n",
    "print(\"=\" * 60)\n",
    "print(\"Training completed! Checkpoint saved as: ./checkpoints/res50_bottle.pth\")"
   ]
  }
 ],
 "metadata": {
  "kernelspec": {
   "display_name": "Python 3",
   "language": "python",
   "name": "python3"
  },
  "language_info": {
   "codemirror_mode": {
    "name": "ipython",
    "version": 3
   },
   "file_extension": ".py",
   "mimetype": "text/x-python",
   "name": "python",
   "nbconvert_exporter": "python",
   "pygments_lexer": "ipython3",
   "version": "3.13.1"
  }
 },
 "nbformat": 4,
 "nbformat_minor": 5
}
